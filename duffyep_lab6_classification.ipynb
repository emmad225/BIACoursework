{
  "cells": [
    {
      "cell_type": "markdown",
      "metadata": {
        "id": "view-in-github",
        "colab_type": "text"
      },
      "source": [
        "<a href=\"https://colab.research.google.com/github/emmad225/BIACoursework/blob/main/duffyep_lab6_classification.ipynb\" target=\"_parent\"><img src=\"https://colab.research.google.com/assets/colab-badge.svg\" alt=\"Open In Colab\"/></a>"
      ]
    },
    {
      "cell_type": "markdown",
      "metadata": {
        "id": "IAae8nayHhH2"
      },
      "source": [
        "# [CSCI 3397/PSYC 3317] Lab 6: Linear Classification in PyTorch\n",
        "\n",
        "**Posted:** Wednesday, March 13, 2023\n",
        "\n",
        "**Due:** Wednesday, March 20, 2023\n",
        "\n",
        "__Total Points__: 4 pts\n",
        "\n",
        "__Submission__: please rename the .ipynb file as __\\<your_username\\>\\_lab6b.ipynb__ before you submit it to canvas. Example: weidf_lab6.ipynb."
      ]
    },
    {
      "cell_type": "markdown",
      "metadata": {
        "id": "-FYFl-B68F-F"
      },
      "source": [
        "# <b>1. Optimization Basics</b>\n"
      ]
    },
    {
      "cell_type": "markdown",
      "metadata": {
        "id": "KjZy_OOQ8F-F"
      },
      "source": [
        "Let's implement the gradient descend method to find the minimum value for the function $g(x) = 0.066x^4-0.32x^3-0.85x^2+ 4.2x+8.2$."
      ]
    },
    {
      "cell_type": "code",
      "execution_count": null,
      "metadata": {
        "id": "5ARHaksD8F-G",
        "colab": {
          "base_uri": "https://localhost:8080/",
          "height": 467
        },
        "outputId": "853f5d9f-ba28-4c02-fcea-d3985cc996b6"
      },
      "outputs": [
        {
          "output_type": "stream",
          "name": "stdout",
          "text": [
            "initial result: x=5.50, g(x)=12.74\n",
            "final result: x=4.27, g(x)=7.66\n"
          ]
        },
        {
          "output_type": "display_data",
          "data": {
            "text/plain": [
              "<Figure size 640x480 with 1 Axes>"
            ],
            "image/png": "[encoded data removed]"
          },
          "metadata": {}
        }
      ],
      "source": [
        "import numpy as np\n",
        "import matplotlib.pyplot as plt\n",
        "\n",
        "## function definition\n",
        "def g(x):\n",
        "    # return the value of the defined g(x) at value x\n",
        "    return 8.2 + 4.2*x**1 -0.85*x**2 -0.32*x**3+ 0.066*x**4\n",
        "\n",
        "def Dg(x):\n",
        "    # return the value of the gradient of the defined g(x) at value x\n",
        "    return 4.2 -1.7*x -0.96*x**2+ 0.264*x**3\n",
        "\n",
        "## gradient descent\n",
        "def optimizer_grad_descent(x0, grad, alpha = 0.1, num_step = 100, x_ran=None):\n",
        "    for x in range(num_step):\n",
        "        # gradient descent update\n",
        "        x0 = x0 - alpha * grad(x0)\n",
        "        if x_ran is not None:\n",
        "          # clip the value\n",
        "          x0 = np.clip(x0, x_ran[0], x_ran[1])\n",
        "    return x0\n",
        "\n",
        "# find the minimum value within x_ran, starting from x0\n",
        "x_ran = [-4, 6]\n",
        "x0 = 5.5\n",
        "x1 = optimizer_grad_descent(x0, Dg, alpha = 0.1, x_ran = x_ran)\n",
        "\n",
        "# plot result\n",
        "print('initial result: x=%.2f, g(x)=%.2f' %(x0, g(x0)))\n",
        "print('final result: x=%.2f, g(x)=%.2f' %(x1, g(x1)))\n",
        "xx = np.linspace(*x_ran, 100)\n",
        "plt.plot(xx, g(xx))\n",
        "plt.plot(x0,g(x0), 'ro')\n",
        "plt.plot(x1,g(x1), 'kx', markersize=20)\n",
        "plt.show()"
      ]
    },
    {
      "cell_type": "markdown",
      "metadata": {
        "id": "EKSHYh1gby1h"
      },
      "source": [
        "# <b>2. PyTorch Basics<b>\n",
        "\n",
        "We will explain how to implement machine learning building blocks (model, loss, and optimization) in PyTorch."
      ]
    },
    {
      "cell_type": "markdown",
      "metadata": {
        "id": "2drtxcMec0YU"
      },
      "source": [
        "## What is PyTorch?\n",
        "1. A Python GPU-accelerated tensor library (NumPy, but faster)\n",
        "2. Differentiable Programming with dynamic computation graphs\n",
        "3. Flexible and efficient **neural network** library\n",
        "4. Python-first framework (easy to integrate with other Python libraries, debug, and extend)\n",
        "  + Quick conversion from & to NumPy array, integration with other Python libs.\n",
        "  + Your favorite Python debugger.\n",
        "  + Adding custom ops with Python/c++ extension.\n",
        "  + Running in purely c++ environment with the c++ API.\n",
        "\n",
        "Useful links:\n",
        "\n",
        "+ PyTorch documentation: https://pytorch.org/docs/stable/index.html\n",
        "  -  Most math operations can be found as `torch.*` or `Tensor.*`.\n",
        "+ [Optional] PyTorch official tutorials: https://pytorch.org/tutorials/\n",
        "  - Transfer learning tutorial: https://pytorch.org/tutorials/beginner/transfer_learning_tutorial.html\n",
        "+ [Optional] PyTorch examples: https://github.com/pytorch/examples/\n",
        "  - DCGAN, ImageNet training, Reinforcement Learning, etc."
      ]
    },
    {
      "cell_type": "markdown",
      "metadata": {
        "id": "nCij29tonH84"
      },
      "source": [
        "### PyTorch Installation"
      ]
    },
    {
      "cell_type": "code",
      "execution_count": null,
      "metadata": {
        "id": "FgmnwpcHf8U0",
        "colab": {
          "base_uri": "https://localhost:8080/"
        },
        "outputId": "4854dd05-f5fc-4118-a2fb-5c2047548300"
      },
      "outputs": [
        {
          "output_type": "stream",
          "name": "stdout",
          "text": [
            "Requirement already satisfied: torch in /usr/local/lib/python3.10/dist-packages (2.2.1+cu121)\n",
            "Requirement already satisfied: torchvision in /usr/local/lib/python3.10/dist-packages (0.17.1+cu121)\n",
            "Requirement already satisfied: filelock in /usr/local/lib/python3.10/dist-packages (from torch) (3.13.1)\n",
            "Requirement already satisfied: typing-extensions>=4.8.0 in /usr/local/lib/python3.10/dist-packages (from torch) (4.10.0)\n",
            "Requirement already satisfied: sympy in /usr/local/lib/python3.10/dist-packages (from torch) (1.12)\n",
            "Requirement already satisfied: networkx in /usr/local/lib/python3.10/dist-packages (from torch) (3.2.1)\n",
            "Requirement already satisfied: jinja2 in /usr/local/lib/python3.10/dist-packages (from torch) (3.1.3)\n",
            "Requirement already satisfied: fsspec in /usr/local/lib/python3.10/dist-packages (from torch) (2023.6.0)\n",
            "Collecting nvidia-cuda-nvrtc-cu12==12.1.105 (from torch)\n",
            "  Downloading nvidia_cuda_nvrtc_cu12-12.1.105-py3-none-manylinux1_x86_64.whl (23.7 MB)\n",
            "\u001b[2K     \u001b[90m━━━━━━━━━━━━━━━━━━━━━━━━━━━━━━━━━━━━━━━━\u001b[0m \u001b[32m23.7/23.7 MB\u001b[0m \u001b[31m54.3 MB/s\u001b[0m eta \u001b[36m0:00:00\u001b[0m\n",
            "\u001b[?25hCollecting nvidia-cuda-runtime-cu12==12.1.105 (from torch)\n",
            "  Downloading nvidia_cuda_runtime_cu12-12.1.105-py3-none-manylinux1_x86_64.whl (823 kB)\n",
            "\u001b[2K     \u001b[90m━━━━━━━━━━━━━━━━━━━━━━━━━━━━━━━━━━━━━━━━\u001b[0m \u001b[32m823.6/823.6 kB\u001b[0m \u001b[31m68.7 MB/s\u001b[0m eta \u001b[36m0:00:00\u001b[0m\n",
            "\u001b[?25hCollecting nvidia-cuda-cupti-cu12==12.1.105 (from torch)\n",
            "  Downloading nvidia_cuda_cupti_cu12-12.1.105-py3-none-manylinux1_x86_64.whl (14.1 MB)\n",
            "\u001b[2K     \u001b[90m━━━━━━━━━━━━━━━━━━━━━━━━━━━━━━━━━━━━━━━━\u001b[0m \u001b[32m14.1/14.1 MB\u001b[0m \u001b[31m89.4 MB/s\u001b[0m eta \u001b[36m0:00:00\u001b[0m\n",
            "\u001b[?25hCollecting nvidia-cudnn-cu12==8.9.2.26 (from torch)\n",
            "  Downloading nvidia_cudnn_cu12-8.9.2.26-py3-none-manylinux1_x86_64.whl (731.7 MB)\n",
            "\u001b[2K     \u001b[90m━━━━━━━━━━━━━━━━━━━━━━━━━━━━━━━━━━━━━━━━\u001b[0m \u001b[32m731.7/731.7 MB\u001b[0m \u001b[31m2.3 MB/s\u001b[0m eta \u001b[36m0:00:00\u001b[0m\n",
            "\u001b[?25hCollecting nvidia-cublas-cu12==12.1.3.1 (from torch)\n",
            "  Downloading nvidia_cublas_cu12-12.1.3.1-py3-none-manylinux1_x86_64.whl (410.6 MB)\n",
            "\u001b[2K     \u001b[90m━━━━━━━━━━━━━━━━━━━━━━━━━━━━━━━━━━━━━━━━\u001b[0m \u001b[32m410.6/410.6 MB\u001b[0m \u001b[31m2.8 MB/s\u001b[0m eta \u001b[36m0:00:00\u001b[0m\n",
            "\u001b[?25hCollecting nvidia-cufft-cu12==11.0.2.54 (from torch)\n",
            "  Downloading nvidia_cufft_cu12-11.0.2.54-py3-none-manylinux1_x86_64.whl (121.6 MB)\n",
            "\u001b[2K     \u001b[90m━━━━━━━━━━━━━━━━━━━━━━━━━━━━━━━━━━━━━━━━\u001b[0m \u001b[32m121.6/121.6 MB\u001b[0m \u001b[31m8.7 MB/s\u001b[0m eta \u001b[36m0:00:00\u001b[0m\n",
            "\u001b[?25hCollecting nvidia-curand-cu12==10.3.2.106 (from torch)\n",
            "  Downloading nvidia_curand_cu12-10.3.2.106-py3-none-manylinux1_x86_64.whl (56.5 MB)\n",
            "\u001b[2K     \u001b[90m━━━━━━━━━━━━━━━━━━━━━━━━━━━━━━━━━━━━━━━━\u001b[0m \u001b[32m56.5/56.5 MB\u001b[0m \u001b[31m15.5 MB/s\u001b[0m eta \u001b[36m0:00:00\u001b[0m\n",
            "\u001b[?25hCollecting nvidia-cusolver-cu12==11.4.5.107 (from torch)\n",
            "  Downloading nvidia_cusolver_cu12-11.4.5.107-py3-none-manylinux1_x86_64.whl (124.2 MB)\n",
            "\u001b[2K     \u001b[90m━━━━━━━━━━━━━━━━━━━━━━━━━━━━━━━━━━━━━━━━\u001b[0m \u001b[32m124.2/124.2 MB\u001b[0m \u001b[31m8.3 MB/s\u001b[0m eta \u001b[36m0:00:00\u001b[0m\n",
            "\u001b[?25hCollecting nvidia-cusparse-cu12==12.1.0.106 (from torch)\n",
            "  Downloading nvidia_cusparse_cu12-12.1.0.106-py3-none-manylinux1_x86_64.whl (196.0 MB)\n",
            "\u001b[2K     \u001b[90m━━━━━━━━━━━━━━━━━━━━━━━━━━━━━━━━━━━━━━━━\u001b[0m \u001b[32m196.0/196.0 MB\u001b[0m \u001b[31m6.7 MB/s\u001b[0m eta \u001b[36m0:00:00\u001b[0m\n",
            "\u001b[?25hCollecting nvidia-nccl-cu12==2.19.3 (from torch)\n",
            "  Downloading nvidia_nccl_cu12-2.19.3-py3-none-manylinux1_x86_64.whl (166.0 MB)\n",
            "\u001b[2K     \u001b[90m━━━━━━━━━━━━━━━━━━━━━━━━━━━━━━━━━━━━━━━━\u001b[0m \u001b[32m166.0/166.0 MB\u001b[0m \u001b[31m7.3 MB/s\u001b[0m eta \u001b[36m0:00:00\u001b[0m\n",
            "\u001b[?25hCollecting nvidia-nvtx-cu12==12.1.105 (from torch)\n",
            "  Downloading nvidia_nvtx_cu12-12.1.105-py3-none-manylinux1_x86_64.whl (99 kB)\n",
            "\u001b[2K     \u001b[90m━━━━━━━━━━━━━━━━━━━━━━━━━━━━━━━━━━━━━━━━\u001b[0m \u001b[32m99.1/99.1 kB\u001b[0m \u001b[31m13.5 MB/s\u001b[0m eta \u001b[36m0:00:00\u001b[0m\n",
            "\u001b[?25hRequirement already satisfied: triton==2.2.0 in /usr/local/lib/python3.10/dist-packages (from torch) (2.2.0)\n",
            "Collecting nvidia-nvjitlink-cu12 (from nvidia-cusolver-cu12==11.4.5.107->torch)\n",
            "  Downloading nvidia_nvjitlink_cu12-12.4.99-py3-none-manylinux2014_x86_64.whl (21.1 MB)\n",
            "\u001b[2K     \u001b[90m━━━━━━━━━━━━━━━━━━━━━━━━━━━━━━━━━━━━━━━━\u001b[0m \u001b[32m21.1/21.1 MB\u001b[0m \u001b[31m57.0 MB/s\u001b[0m eta \u001b[36m0:00:00\u001b[0m\n",
            "\u001b[?25hRequirement already satisfied: numpy in /usr/local/lib/python3.10/dist-packages (from torchvision) (1.25.2)\n",
            "Requirement already satisfied: pillow!=8.3.*,>=5.3.0 in /usr/local/lib/python3.10/dist-packages (from torchvision) (9.4.0)\n",
            "Requirement already satisfied: MarkupSafe>=2.0 in /usr/local/lib/python3.10/dist-packages (from jinja2->torch) (2.1.5)\n",
            "Requirement already satisfied: mpmath>=0.19 in /usr/local/lib/python3.10/dist-packages (from sympy->torch) (1.3.0)\n",
            "Installing collected packages: nvidia-nvtx-cu12, nvidia-nvjitlink-cu12, nvidia-nccl-cu12, nvidia-curand-cu12, nvidia-cufft-cu12, nvidia-cuda-runtime-cu12, nvidia-cuda-nvrtc-cu12, nvidia-cuda-cupti-cu12, nvidia-cublas-cu12, nvidia-cusparse-cu12, nvidia-cudnn-cu12, nvidia-cusolver-cu12\n",
            "Successfully installed nvidia-cublas-cu12-12.1.3.1 nvidia-cuda-cupti-cu12-12.1.105 nvidia-cuda-nvrtc-cu12-12.1.105 nvidia-cuda-runtime-cu12-12.1.105 nvidia-cudnn-cu12-8.9.2.26 nvidia-cufft-cu12-11.0.2.54 nvidia-curand-cu12-10.3.2.106 nvidia-cusolver-cu12-11.4.5.107 nvidia-cusparse-cu12-12.1.0.106 nvidia-nccl-cu12-2.19.3 nvidia-nvjitlink-cu12-12.4.99 nvidia-nvtx-cu12-12.1.105\n"
          ]
        }
      ],
      "source": [
        "# install torch and torchvision (a utility library for computer vision that provides many public datasets and pre-trained models)\n",
        "!pip install torch torchvision"
      ]
    },
    {
      "cell_type": "markdown",
      "metadata": {
        "id": "Mj3oX5WEkM8P"
      },
      "source": [
        "## 2.1 GPU-accelerated Tensor Library\n",
        "\n",
        "The syntax of the torch tensor library is similar to that of numpy."
      ]
    },
    {
      "cell_type": "code",
      "execution_count": null,
      "metadata": {
        "id": "dPdEDFjyf94_"
      },
      "outputs": [],
      "source": [
        "import torch"
      ]
    },
    {
      "cell_type": "code",
      "execution_count": null,
      "metadata": {
        "id": "3cVfJH3PgvCE",
        "colab": {
          "base_uri": "https://localhost:8080/"
        },
        "outputId": "fa7c1cb1-2711-4108-c815-f0b1c259544b"
      },
      "outputs": [
        {
          "output_type": "stream",
          "name": "stdout",
          "text": [
            "tensor([[0., 0., 0., 0., 0.],\n",
            "        [0., 0., 0., 0., 0.],\n",
            "        [0., 0., 0., 0., 0.]])\n"
          ]
        }
      ],
      "source": [
        "# Create a 3x5 matrix filled with zeros\n",
        "x = torch.zeros(3, 5)\n",
        "print(x)"
      ]
    },
    {
      "cell_type": "code",
      "execution_count": null,
      "metadata": {
        "id": "qauqxYzmgQBO",
        "colab": {
          "base_uri": "https://localhost:8080/"
        },
        "outputId": "b2f60519-bae0-4a73-ad1c-954baf510277"
      },
      "outputs": [
        {
          "output_type": "stream",
          "name": "stdout",
          "text": [
            "tensor([[ 0.7198,  1.6729, -0.5700, -0.5376, -0.1014],\n",
            "        [ 2.1006,  0.9604, -1.7158,  1.0649,  0.5691],\n",
            "        [ 0.2694, -0.4575,  0.4510,  0.9803,  0.2640]])\n"
          ]
        }
      ],
      "source": [
        "# Create a 3x5 matrix filled with random values from a standard normal distribution\n",
        "y = torch.randn(3, 5)\n",
        "print(y)"
      ]
    },
    {
      "cell_type": "code",
      "execution_count": null,
      "metadata": {
        "id": "pUS9LmmF58gI",
        "colab": {
          "base_uri": "https://localhost:8080/"
        },
        "outputId": "842b0410-687f-448a-fb19-03197f42ab84"
      },
      "outputs": [
        {
          "output_type": "stream",
          "name": "stdout",
          "text": [
            "\n",
            ".t()  (transpose): \n",
            "tensor([[ 0.7198,  2.1006,  0.2694],\n",
            "        [ 1.6729,  0.9604, -0.4575],\n",
            "        [-0.5700, -1.7158,  0.4510],\n",
            "        [-0.5376,  1.0649,  0.9803],\n",
            "        [-0.1014,  0.5691,  0.2640]])\n",
            ".reshape(5, 3): \n",
            "tensor([[ 0.7198,  1.6729, -0.5700],\n",
            "        [-0.5376, -0.1014,  2.1006],\n",
            "        [ 0.9604, -1.7158,  1.0649],\n",
            "        [ 0.5691,  0.2694, -0.4575],\n",
            "        [ 0.4510,  0.9803,  0.2640]])\n"
          ]
        }
      ],
      "source": [
        "# Shape manipulations\n",
        "print('\\n.t()  (transpose): ')\n",
        "print(y.t())\n",
        "\n",
        "print('.reshape(5, 3): ')\n",
        "print(y.reshape(5, 3))"
      ]
    },
    {
      "cell_type": "code",
      "execution_count": null,
      "metadata": {
        "id": "m-qEF8if6VkQ",
        "colab": {
          "base_uri": "https://localhost:8080/"
        },
        "outputId": "72e7805a-fdd8-4341-d86c-3e9479e4f954"
      },
      "outputs": [
        {
          "output_type": "stream",
          "name": "stdout",
          "text": [
            "tensor([[ 2.1006,  0.9604, -1.7158,  1.0649,  0.5691],\n",
            "        [ 0.2694, -0.4575,  0.4510,  0.9803,  0.2640]])\n",
            "tensor([[ 2.1006, -1.7158,  0.5691],\n",
            "        [ 0.2694,  0.4510,  0.2640]])\n"
          ]
        }
      ],
      "source": [
        "# Slicing\n",
        "print(y[1:])\n",
        "\n",
        "# Slicing + select every two elements\n",
        "print(y[1:, ::2])"
      ]
    },
    {
      "cell_type": "code",
      "execution_count": null,
      "metadata": {
        "id": "PGpFKCBEgbJe",
        "colab": {
          "base_uri": "https://localhost:8080/"
        },
        "outputId": "ccd66504-b311-4a08-bfaf-e823bf5c65c2"
      },
      "outputs": [
        {
          "output_type": "stream",
          "name": "stdout",
          "text": [
            "tensor([[2., 2., 2., 2., 2.],\n",
            "        [2., 2., 2., 2., 2.],\n",
            "        [2., 2., 2., 2., 2.]])\n"
          ]
        }
      ],
      "source": [
        "# Basic arithmetics\n",
        "print(x + 2)"
      ]
    },
    {
      "cell_type": "code",
      "execution_count": null,
      "metadata": {
        "id": "gvoZaG8NkbHx",
        "colab": {
          "base_uri": "https://localhost:8080/"
        },
        "outputId": "848f25fb-5132-4341-a6a8-6b68a5f070f3"
      },
      "outputs": [
        {
          "output_type": "stream",
          "name": "stdout",
          "text": [
            "tensor([[ 1.4397,  3.3457, -1.1400, -1.0752, -0.2027],\n",
            "        [ 4.2012,  1.9209, -3.4315,  2.1299,  1.1382],\n",
            "        [ 0.5388, -0.9150,  0.9020,  1.9607,  0.5280]])\n"
          ]
        }
      ],
      "source": [
        "print(y * (x + 2))"
      ]
    },
    {
      "cell_type": "code",
      "execution_count": null,
      "metadata": {
        "id": "Zktd6b7wkgF2",
        "colab": {
          "base_uri": "https://localhost:8080/"
        },
        "outputId": "38db3420-6340-45c0-8249-ef0858eb17ec"
      },
      "outputs": [
        {
          "output_type": "stream",
          "name": "stdout",
          "text": [
            "tensor([[4.2194e+00, 2.8381e+01, 3.1982e-01, 3.4124e-01, 8.1651e-01],\n",
            "        [6.6767e+01, 6.8271e+00, 3.2338e-02, 8.4138e+00, 3.1212e+00],\n",
            "        [1.7140e+00, 4.0053e-01, 2.4644e+00, 7.1043e+00, 1.6956e+00]])\n"
          ]
        }
      ],
      "source": [
        "print((y * (x + 2)).exp())"
      ]
    },
    {
      "cell_type": "markdown",
      "metadata": {
        "id": "n2dhiDLzkyQF"
      },
      "source": [
        "### GPU Acceleration (BC jupyterhub doesn't have GPU support)\n",
        "\n",
        "Everything can be run on a GPU\n",
        "\n",
        "First, let us create a [`torch.device`](https://pytorch.org/docs/stable/tensor_attributes.html#torch-device) object representing a GPU device."
      ]
    },
    {
      "cell_type": "code",
      "source": [
        "cuda0 = torch.device('cuda:0')  # pick the GPU at index 0"
      ],
      "metadata": {
        "id": "3wPlyCA8BkQt"
      },
      "execution_count": null,
      "outputs": []
    },
    {
      "cell_type": "code",
      "source": [
        "# Move a tensor from CPU to GPU\n",
        "# NOTE: the first time you access a GPU, a context is created so this may take a\n",
        "# few seconds. But subsequent uses will be fast.\n",
        "\n",
        "cuda_y = y.to(cuda0)\n",
        "print(cuda_y)"
      ],
      "metadata": {
        "id": "ld8dvljeBuXF",
        "colab": {
          "base_uri": "https://localhost:8080/"
        },
        "outputId": "28ad1e5b-7da0-4ee3-fb31-71fa73eadeeb"
      },
      "execution_count": null,
      "outputs": [
        {
          "output_type": "stream",
          "name": "stdout",
          "text": [
            "tensor([[ 0.7198,  1.6729, -0.5700, -0.5376, -0.1014],\n",
            "        [ 2.1006,  0.9604, -1.7158,  1.0649,  0.5691],\n",
            "        [ 0.2694, -0.4575,  0.4510,  0.9803,  0.2640]], device='cuda:0')\n"
          ]
        }
      ]
    },
    {
      "cell_type": "code",
      "source": [
        "# Or directly creating a tensor on GPU\n",
        "cuda_x = torch.zeros(3, 5, device=cuda0)\n",
        "print(cuda_x)"
      ],
      "metadata": {
        "id": "FPHnZMzzCP3j",
        "colab": {
          "base_uri": "https://localhost:8080/"
        },
        "outputId": "c7e5ad46-5685-45f0-d98b-c95a125976b1"
      },
      "execution_count": null,
      "outputs": [
        {
          "output_type": "stream",
          "name": "stdout",
          "text": [
            "tensor([[0., 0., 0., 0., 0.],\n",
            "        [0., 0., 0., 0., 0.],\n",
            "        [0., 0., 0., 0., 0.]], device='cuda:0')\n"
          ]
        }
      ]
    },
    {
      "cell_type": "code",
      "source": [
        "# All functions and methods work on GPU tensors\n",
        "print((cuda_y * (cuda_x + 2)).exp())  # values match the CPU results above!"
      ],
      "metadata": {
        "id": "FlrE8uyCCSSa",
        "colab": {
          "base_uri": "https://localhost:8080/"
        },
        "outputId": "d3230b90-5694-42b5-b9dd-9a8be4546e9e"
      },
      "execution_count": null,
      "outputs": [
        {
          "output_type": "stream",
          "name": "stdout",
          "text": [
            "tensor([[4.2194e+00, 2.8381e+01, 3.1982e-01, 3.4124e-01, 8.1651e-01],\n",
            "        [6.6767e+01, 6.8271e+00, 3.2338e-02, 8.4138e+00, 3.1212e+00],\n",
            "        [1.7140e+00, 4.0053e-01, 2.4644e+00, 7.1043e+00, 1.6956e+00]],\n",
            "       device='cuda:0')\n"
          ]
        }
      ]
    },
    {
      "cell_type": "markdown",
      "metadata": {
        "id": "FJb9shauw6Bu"
      },
      "source": [
        "### NumPy Bridge\n",
        "\n",
        "Converting a `torch.Tensor` to a `np.ndarray` and vice versa is a breeze.\n",
        "\n",
        "The `torch.Tensor` and `np.ndarray` will share their underlying memory locations (if the `torch.Tensor` is on CPU and `dtype` is the same), and changing one will change the other."
      ]
    },
    {
      "cell_type": "code",
      "execution_count": null,
      "metadata": {
        "id": "wjPmAYWIxeM3"
      },
      "outputs": [],
      "source": [
        "import numpy as np"
      ]
    },
    {
      "cell_type": "code",
      "execution_count": null,
      "metadata": {
        "id": "VHPeZwjPWwlx",
        "colab": {
          "base_uri": "https://localhost:8080/"
        },
        "outputId": "9ffcb1cd-b742-44b6-a837-48058ee851ab"
      },
      "outputs": [
        {
          "output_type": "stream",
          "name": "stdout",
          "text": [
            "tensor([-1.8572,  1.3065, -1.0273, -0.7562,  1.4059])\n",
            "[-1.8572422  1.3065072 -1.0273327 -0.7562191  1.405887 ]\n",
            "[-1.8572422  1.3065072 -1.0273327 -0.7562191  1.405887 ]\n"
          ]
        }
      ],
      "source": [
        "# convert a torch tensor into a numpy array\n",
        "x = torch.randn(5)\n",
        "x_np1 = x.numpy()\n",
        "x_np2 = np.asarray(x)\n",
        "\n",
        "print(x)\n",
        "print(x_np1)\n",
        "print(x_np2)"
      ]
    },
    {
      "cell_type": "code",
      "execution_count": null,
      "metadata": {
        "id": "WfVwkxI8x5ks",
        "colab": {
          "base_uri": "https://localhost:8080/"
        },
        "outputId": "6f986dec-abb0-413f-f6db-d64ddc192db7"
      },
      "outputs": [
        {
          "output_type": "stream",
          "name": "stdout",
          "text": [
            "[[ 0.16677557 -0.10229111  0.63259144 -2.2048607 ]\n",
            " [ 0.5678323   0.3650739   1.34271664 -0.60060228]\n",
            " [ 1.15983843  1.92507041  0.79447852  0.46832978]]\n",
            "tensor([[ 0.1668, -0.1023,  0.6326, -2.2049],\n",
            "        [ 0.5678,  0.3651,  1.3427, -0.6006],\n",
            "        [ 1.1598,  1.9251,  0.7945,  0.4683]], dtype=torch.float64)\n"
          ]
        }
      ],
      "source": [
        "# convert a numpy array into a torch tensor\n",
        "\n",
        "a = np.random.randn(3, 4)\n",
        "a_pt = torch.as_tensor(a)\n",
        "print(a)\n",
        "print(a_pt)"
      ]
    },
    {
      "cell_type": "code",
      "execution_count": null,
      "metadata": {
        "id": "6RmnP6Sayb19",
        "colab": {
          "base_uri": "https://localhost:8080/"
        },
        "outputId": "bab45ed4-b9b3-47e3-cf3b-f879c3bd5484"
      },
      "outputs": [
        {
          "output_type": "stream",
          "name": "stdout",
          "text": [
            "[[-1.         -1.         -1.         -1.        ]\n",
            " [ 0.5678323   0.3650739   1.34271664 -0.60060228]\n",
            " [ 1.15983843  1.92507041  0.79447852  0.46832978]]\n"
          ]
        }
      ],
      "source": [
        "# the resulting CPU Tensor shares memory with the array!\n",
        "# change the tensor array -> change the orignial numpy array\n",
        "# if you want a different copy: a_pt = torch.as_tensor(a.copy())\n",
        "\n",
        "a_pt[0] = -1\n",
        "print(a)"
      ]
    },
    {
      "cell_type": "markdown",
      "metadata": {
        "id": "EAvixGtnv459"
      },
      "source": [
        "## 2.2 Flexible and Efficient Neural Network Library"
      ]
    },
    {
      "cell_type": "markdown",
      "metadata": {
        "id": "Ni-h3bBGz0kf"
      },
      "source": [
        "The [`torch.nn`](https://pytorch.org/docs/stable/nn.html) and [`torch.optim`](https://pytorch.org/docs/stable/optim.html) packages provide many efficient implementations of neural network components:\n",
        "  + Affine layers and [activation functions](https://pytorch.org/docs/stable/nn.html#non-linear-activations-weighted-sum-nonlinearity)\n",
        "  + Normalization methods\n",
        "  + [Initialization schemes](https://pytorch.org/docs/stable/nn.html#torch-nn-init)\n",
        "  + [Loss functions](https://pytorch.org/docs/stable/nn.html#loss-functions)\n",
        "  + [Embeddings](https://pytorch.org/docs/stable/nn.html#sparse-layers)\n",
        "  + [Distributed and Multi-GPU training](https://pytorch.org/docs/stable/nn.html#dataparallel-layers-multi-gpu-distributed)\n",
        "  + [Gradient-based optimizers](https://pytorch.org/docs/stable/optim.html)\n",
        "  + [Learning rate schedulers](https://pytorch.org/docs/stable/optim.html#how-to-adjust-learning-rate)\n",
        "  + etc."
      ]
    },
    {
      "cell_type": "markdown",
      "metadata": {
        "id": "48lBcWUIhc6Y"
      },
      "source": [
        "### (a1) Model: Linear Layer\n",
        "\n",
        "We will use the [fully connected linear layer (`nn.Linear`)](https://pytorch.org/docs/stable/nn.html#torch.nn.Linear).\n",
        "A fc layer performs an affine transform with a 2D weight parameter $\\mathbf{w}$ and a 1D bias parameter $\\mathbf{b}$:\n",
        "\n",
        "$$ f(\\mathbf{x}) = \\mathbf{w}^\\mathrm{T} \\mathbf{x} + \\mathbf{b}$$"
      ]
    },
    {
      "cell_type": "code",
      "execution_count": null,
      "metadata": {
        "id": "4XWfNgtI0NE0"
      },
      "outputs": [],
      "source": [
        "# all popular neural network layers\n",
        "import torch.nn as nn\n",
        "# handy for simple functions\n",
        "import torch.nn.functional as F"
      ]
    },
    {
      "cell_type": "code",
      "execution_count": null,
      "metadata": {
        "id": "DpkSxb3UvZYF",
        "colab": {
          "base_uri": "https://localhost:8080/"
        },
        "outputId": "fa7f8a7a-c4d1-4299-9812-8cdaa2bd415c"
      },
      "outputs": [
        {
          "output_type": "stream",
          "name": "stdout",
          "text": [
            "Linear(in_features=4, out_features=8, bias=True)\n"
          ]
        }
      ],
      "source": [
        "# input x: 1D array of size 4\n",
        "# output: 1D array of size 8\n",
        "fc = nn.Linear(in_features=4, out_features=8)\n",
        "print(fc)"
      ]
    },
    {
      "cell_type": "code",
      "execution_count": null,
      "metadata": {
        "id": "MRYaIS5vzyoF",
        "colab": {
          "base_uri": "https://localhost:8080/"
        },
        "outputId": "6b0b131c-b628-4ac1-e866-1e7525af11aa"
      },
      "outputs": [
        {
          "output_type": "stream",
          "name": "stdout",
          "text": [
            "param name: weight\t shape: torch.Size([8, 4])\n",
            "param name: bias\t shape: torch.Size([8])\n"
          ]
        }
      ],
      "source": [
        "# It has two parameters, the weight and the bias\n",
        "for name, p in fc.named_parameters():\n",
        "    print('param name: {}\\t shape: {}'.format(name, p.shape))"
      ]
    },
    {
      "cell_type": "code",
      "execution_count": null,
      "metadata": {
        "id": "mKNxg_ggfaCN",
        "colab": {
          "base_uri": "https://localhost:8080/"
        },
        "outputId": "51591666-0cb3-4300-b27c-163e3f03bc99"
      },
      "outputs": [
        {
          "output_type": "execute_result",
          "data": {
            "text/plain": [
              "Parameter containing:\n",
              "tensor([[ 0.2407, -0.3080,  0.0740,  0.0786],\n",
              "        [-0.0526,  0.4571,  0.3933, -0.1207],\n",
              "        [-0.2917, -0.2508, -0.4091,  0.4380],\n",
              "        [-0.0661,  0.4436, -0.3780, -0.3518],\n",
              "        [ 0.2332,  0.0287,  0.1233, -0.1745],\n",
              "        [-0.2985,  0.1315, -0.2820, -0.1275],\n",
              "        [-0.3709,  0.1968, -0.1448,  0.2848],\n",
              "        [ 0.4333, -0.0187,  0.1201,  0.1018]], requires_grad=True)"
            ]
          },
          "metadata": {},
          "execution_count": 25
        }
      ],
      "source": [
        "fc.weight"
      ]
    },
    {
      "cell_type": "code",
      "execution_count": null,
      "metadata": {
        "id": "KgGxaH8P0k6d",
        "colab": {
          "base_uri": "https://localhost:8080/"
        },
        "outputId": "1943b7c5-cd69-450d-efd2-679a692ff177"
      },
      "outputs": [
        {
          "output_type": "stream",
          "name": "stdout",
          "text": [
            "Parameter containing:\n",
            "tensor([-0.4936, -0.4290, -0.4018, -0.2093, -0.3760, -0.0536, -0.2134,  0.0738],\n",
            "       requires_grad=True)\n"
          ]
        }
      ],
      "source": [
        "# These parameters by default have `requires_grad=True`, so they will collect gradients!\n",
        "print(fc.bias)"
      ]
    },
    {
      "cell_type": "markdown",
      "metadata": {
        "id": "X28ALh9ihqSp"
      },
      "source": [
        "### (a2) Model: Sigmoid Layer\n",
        "\n",
        "$$ \\sigma(x) = \\frac{1}{1+e^{-x}}.$$"
      ]
    },
    {
      "cell_type": "code",
      "execution_count": null,
      "metadata": {
        "id": "21nZqKk009u2",
        "colab": {
          "base_uri": "https://localhost:8080/"
        },
        "outputId": "d1ed030f-8cf9-4c2d-db8d-43d6d54f3fbe"
      },
      "outputs": [
        {
          "output_type": "stream",
          "name": "stdout",
          "text": [
            "linear layer output: range=[-\\infty, \\infty]\n",
            "tensor([[-0.4146,  0.2187, -1.6846, -0.1057,  0.1585, -0.3716, -0.9661,  0.3681],\n",
            "        [-0.3781,  0.0576, -1.5710,  0.0864,  0.1829, -0.3845, -0.9686,  0.5688]],\n",
            "       grad_fn=<AddmmBackward0>)\n",
            "logistic output: range=[0, 1]\n",
            "tensor([[0.3978, 0.5545, 0.1565, 0.4736, 0.5395, 0.4081, 0.2757, 0.5910],\n",
            "        [0.4066, 0.5144, 0.1721, 0.5216, 0.5456, 0.4050, 0.2752, 0.6385]],\n",
            "       grad_fn=<SigmoidBackward0>)\n"
          ]
        }
      ],
      "source": [
        "# Let's construct an input tensor with 2 dimensions:\n",
        "#   - batch dimensionsize: 2\n",
        "#   - input size: 4\n",
        "x = torch.randn(2, 4)\n",
        "\n",
        "result_linear = fc(x)\n",
        "result_logistic = F.sigmoid(result_linear)\n",
        "print(\"linear layer output: range=[-\\infty, \\infty]\")\n",
        "print(result_linear)\n",
        "print(\"logistic output: range=[0, 1]\")\n",
        "print(result_logistic)\n"
      ]
    },
    {
      "cell_type": "markdown",
      "metadata": {
        "id": "krtyRiOdjCKv"
      },
      "source": [
        "### (b) Loss: Cross entropy and MSE Loss Function\n",
        "\n",
        "[Documentation](https://pytorch.org/docs/stable/nn.functional.html)"
      ]
    },
    {
      "cell_type": "code",
      "execution_count": null,
      "metadata": {
        "id": "HBh0R7zV7TZK",
        "colab": {
          "base_uri": "https://localhost:8080/"
        },
        "outputId": "89175a0f-ffe6-4004-a834-f5e468a233e3"
      },
      "outputs": [
        {
          "output_type": "stream",
          "name": "stdout",
          "text": [
            "tensor(0.1585, grad_fn=<MseLossBackward0>) tensor(0.4978, grad_fn=<BinaryCrossEntropyBackward0>)\n"
          ]
        }
      ],
      "source": [
        "# generate arbitrary classification label\n",
        "target = result_linear>0.1\n",
        "target = target.to(torch.float) # need to convert it to float\n",
        "\n",
        "# Let's try MSE loss\n",
        "loss_mse = F.mse_loss(result_logistic, target)\n",
        "loss_bce = F.binary_cross_entropy(result_logistic, target)\n",
        "print(loss_mse, loss_bce)"
      ]
    },
    {
      "cell_type": "markdown",
      "metadata": {
        "id": "GReMBZkjjv98"
      },
      "source": [
        "### (c) Autograd and Optimizer"
      ]
    },
    {
      "cell_type": "markdown",
      "metadata": {
        "id": "uFpp4aL2j3tI"
      },
      "source": [
        "#### Gradient Computation\n",
        "PyTorch keeps track of your computations and the gradient is automatically computed!"
      ]
    },
    {
      "cell_type": "code",
      "execution_count": null,
      "metadata": {
        "id": "0HBUX4To7Zie",
        "colab": {
          "base_uri": "https://localhost:8080/"
        },
        "outputId": "6d0db6e9-57b2-4a0e-f878-7864dad35ff5"
      },
      "outputs": [
        {
          "output_type": "stream",
          "name": "stdout",
          "text": [
            "tensor([ 0.0242,  0.0023,  0.0056,  0.0310, -0.0284,  0.0245,  0.0137, -0.0228])\n"
          ]
        }
      ],
      "source": [
        "# Compute gradients\n",
        "loss_mse.backward()\n",
        "print(fc.bias.grad)"
      ]
    },
    {
      "cell_type": "markdown",
      "metadata": {
        "id": "LZURHGQakF9Q"
      },
      "source": [
        "#### Optimizer\n",
        "\n",
        "We can code up a naive optimizer with manual gradient updates like before."
      ]
    },
    {
      "cell_type": "code",
      "execution_count": null,
      "metadata": {
        "id": "5RXQNbrf7jy9",
        "colab": {
          "base_uri": "https://localhost:8080/"
        },
        "outputId": "9d73675c-42e8-4ffe-f27c-217d004857ae"
      },
      "outputs": [
        {
          "output_type": "stream",
          "name": "stdout",
          "text": [
            "bias before GD Parameter containing:\n",
            "tensor([-0.4936, -0.4290, -0.4018, -0.2093, -0.3760, -0.0536, -0.2134,  0.0738],\n",
            "       requires_grad=True)\n",
            "bias after one-step GD Parameter containing:\n",
            "tensor([-0.5057, -0.4302, -0.4047, -0.2248, -0.3618, -0.0659, -0.2202,  0.0852],\n",
            "       requires_grad=True)\n"
          ]
        }
      ],
      "source": [
        "# We can manually perform GD via a loop\n",
        "print('bias before GD', fc.bias)\n",
        "lr = 0.5\n",
        "with torch.no_grad():\n",
        "    # this context manager tells PyTorch that we don't want ops inside to be\n",
        "    # tracked by autograd!\n",
        "    # o/w PyTorch will try to automatically compute the gradient of this gradient operation too.\n",
        "    for p in fc.parameters():\n",
        "        p -= lr * p.grad\n",
        "\n",
        "print('bias after one-step GD', fc.bias)"
      ]
    },
    {
      "cell_type": "markdown",
      "metadata": {
        "id": "OZq4QtJ8F5v4"
      },
      "source": [
        "More easily, we can use the provided [`torch.optim`](https://pytorch.org/docs/stable/optim.html#torch.optim) optimizers (e.g. GD+momentum and many advanced optimizers). We will see how to use the [`torch.optim.SGD`](https://pytorch.org/docs/stable/optim.html#torch.optim.SGD) optimizer in a second!"
      ]
    },
    {
      "cell_type": "markdown",
      "metadata": {
        "id": "ou68C8c-lQu4"
      },
      "source": [
        "# <b>3. Logistic Regression in PyTorch</b>"
      ]
    },
    {
      "cell_type": "markdown",
      "metadata": {
        "id": "v-U1tDZkn3gc"
      },
      "source": [
        "## 3.1 Data\n",
        "- download and pre-procoss the dataset (x,y)\n",
        "- divide them into train, val, and test sets in a 6:2:2 ratio\n",
        "- convert from numpy to pytorch tensor"
      ]
    },
    {
      "cell_type": "code",
      "execution_count": null,
      "metadata": {
        "id": "4ZNB9vWAlZqd",
        "colab": {
          "base_uri": "https://localhost:8080/"
        },
        "outputId": "bc8ee71e-6827-4124-837d-7eee517dbb39"
      },
      "outputs": [
        {
          "output_type": "stream",
          "name": "stdout",
          "text": [
            "torch.Size([60, 2])\n"
          ]
        }
      ],
      "source": [
        "# download data\n",
        "import numpy as np\n",
        "import pandas as pd\n",
        "import torch\n",
        "\n",
        "url = 'https://raw.githubusercontent.com/BlohmLab/MLtutorials/week3/data/marks.txt'\n",
        "data = pd.read_csv(url, header=None)\n",
        "Y = np.array(data.iloc[:,-1]).astype(np.float32).reshape([-1,1])\n",
        "\n",
        "# by default, numpy arrays are float64, but pytorch tensor wants float32\n",
        "X = np.array(data.iloc[:,:-1]).astype(np.float32)\n",
        "# normalize the data for better learning\n",
        "X = (X-X.mean(axis=0))/X.std(axis=0)\n",
        "\n",
        "def data_split(N, ratio=[6,2,2]):\n",
        "    # generate a shuffle array\n",
        "    shuffle_idx = np.arange(N)\n",
        "    np.random.shuffle(shuffle_idx)\n",
        "    # divide into train-val-test by the ratio\n",
        "    data_split = (np.cumsum(ratio)/float(sum(ratio))*N).astype(int)\n",
        "    out_idx = [None] * len(ratio)\n",
        "    out_idx[0] = shuffle_idx[:data_split[0]]\n",
        "    for i in range(1,len(ratio)):\n",
        "        out_idx[i] = shuffle_idx[data_split[i-1] : data_split[i]]\n",
        "    return out_idx\n",
        "\n",
        "train_idx, val_idx, test_idx = data_split(len(Y))\n",
        "\n",
        "X_train, Y_train = X[train_idx], Y[train_idx]\n",
        "X_val, Y_val = X[val_idx], Y[val_idx]\n",
        "X_test, Y_test = X[test_idx], Y[test_idx]\n",
        "\n",
        "#### TODO: convert variables into pytorch tensors\n",
        "X_train_pt, Y_train_pt = torch.as_tensor(X_train), torch.as_tensor(Y_train)\n",
        "X_val_pt, Y_val_pt = torch.as_tensor(X_val), torch.as_tensor(Y_val)\n",
        "X_test_pt, Y_test_pt = torch.as_tensor(X_test), torch.as_tensor(Y_test)\n",
        "print(X_train_pt.size())"
      ]
    },
    {
      "cell_type": "code",
      "execution_count": null,
      "metadata": {
        "id": "DDVvPI3i8F-U",
        "colab": {
          "base_uri": "https://localhost:8080/",
          "height": 449
        },
        "outputId": "b2fc2812-65ae-4867-9084-24dceea13d81"
      },
      "outputs": [
        {
          "output_type": "display_data",
          "data": {
            "text/plain": [
              "<Figure size 640x480 with 1 Axes>"
            ],
            "image/png": "[encoded data removed]"
          },
          "metadata": {}
        }
      ],
      "source": [
        "def plot_logistic_regression(fig, param_W=None, param_b=None, x=X, y=Y, subp=111, title='train'):\n",
        "    # plot original data\n",
        "    X_admitted = x[y==1,:]\n",
        "    X_rejected = x[y==0,:]\n",
        "\n",
        "    ax = fig.add_subplot(subp)\n",
        "    ax.scatter(X_admitted[:,0],X_admitted[:,1])\n",
        "    ax.scatter(X_rejected[:,0],X_rejected[:,1])\n",
        "    ax.set_xlabel('Mark 0')\n",
        "    ax.set_ylabel('Mark 1')\n",
        "    ax.legend(('Accept','Reject'))\n",
        "\n",
        "    if param_W is not None:\n",
        "        # plot the decision boundary\n",
        "        xx = np.linspace(-2, 2,100)\n",
        "        yy = -param_W[0]/param_W[1]*xx - param_b/param_W[1]\n",
        "        ax.plot(xx,yy,'g-')\n",
        "        plt.title(title)\n",
        "\n",
        "fig = plt.figure()\n",
        "plot_logistic_regression(fig, None, None, X_train, Y_train[:,0], 111, 'train data')\n",
        "plt.show()"
      ]
    },
    {
      "cell_type": "markdown",
      "metadata": {
        "id": "tWvTtgKbn6Nx"
      },
      "source": [
        "## 3.2 Logistic Regression Model"
      ]
    },
    {
      "cell_type": "code",
      "execution_count": null,
      "metadata": {
        "id": "izmy6Kr3HWEE"
      },
      "outputs": [],
      "source": [
        "import torch.nn as nn\n",
        "import torch.nn.functional as F\n",
        "\n",
        "class LogisticRegression(nn.Module):\n",
        "    def __init__(self, input_dim, output_dim):\n",
        "        # define the layers and parameters\n",
        "        super(LogisticRegression, self).__init__()\n",
        "        self.linear = torch.nn.Linear(input_dim, output_dim)\n",
        "\n",
        "    def forward(self, x):\n",
        "        # this function will be called to process the input data\n",
        "        outputs = F.sigmoid(self.linear(x))\n",
        "        return outputs\n",
        "\n",
        "# create a model (parameters are initialized)\n",
        "# input (size = 2): two exam scores (the bias param will take care of constant term)\n",
        "# ouput (size = 1): accept or not\n",
        "model = LogisticRegression(input_dim = 2, output_dim = 1)\n",
        "\n",
        "# upload the model to GPU\n",
        "# model.cuda()"
      ]
    },
    {
      "cell_type": "markdown",
      "metadata": {
        "id": "Z6_pIhHGpaOO"
      },
      "source": [
        "## 3.3 Optimizer\n",
        "We will use all the data and SGD becomes the same as the gradient descent (GD)."
      ]
    },
    {
      "cell_type": "code",
      "execution_count": null,
      "metadata": {
        "id": "M35F6enHq2AY"
      },
      "outputs": [],
      "source": [
        "lr_rate = 0.01\n",
        "optimizer = torch.optim.SGD(model.parameters(), lr=lr_rate)"
      ]
    },
    {
      "cell_type": "markdown",
      "metadata": {
        "id": "ul2Xnrcuwmo5"
      },
      "source": [
        "## 3.4 Training\n",
        "Well, only 4 important lines!"
      ]
    },
    {
      "cell_type": "code",
      "execution_count": null,
      "metadata": {
        "id": "XZoO55hiHMrV",
        "colab": {
          "base_uri": "https://localhost:8080/"
        },
        "outputId": "51c6eff6-9d73-478e-febd-9de201e47b02"
      },
      "outputs": [
        {
          "output_type": "stream",
          "name": "stdout",
          "text": [
            "iteration 0\tloss 0.18662\n",
            "iteration 10\tloss 0.17530\n",
            "iteration 20\tloss 0.14914\n",
            "iteration 30\tloss 0.12038\n",
            "iteration 40\tloss 0.09796\n",
            "iteration 50\tloss 0.08333\n",
            "iteration 60\tloss 0.07435\n",
            "iteration 70\tloss 0.06883\n",
            "iteration 80\tloss 0.06529\n",
            "iteration 90\tloss 0.06288\n",
            "iteration 100\tloss 0.06108\n",
            "iteration 110\tloss 0.05965\n",
            "iteration 120\tloss 0.05842\n",
            "iteration 130\tloss 0.05735\n",
            "iteration 140\tloss 0.05639\n"
          ]
        }
      ],
      "source": [
        "num_iter = 150\n",
        "# training loop\n",
        "for ii in range(num_iter):\n",
        "    # 1. forward pass\n",
        "    Y_hat = model(X_train_pt)\n",
        "\n",
        "    # 2. compute loss\n",
        "    loss = F.mse_loss(Y_hat, Y_train_pt)\n",
        "\n",
        "    # 3. compute gradients\n",
        "    loss.backward()\n",
        "\n",
        "    # 4. gradient update\n",
        "    optimizer.step()\n",
        "\n",
        "    # add some printing\n",
        "    if ii % 10 == 0:\n",
        "        print('iteration {}\\tloss {:.5f}'.format(ii, loss))\n",
        "\n",
        "# if the torch tensor has \"require_grad\", need to detach it first\n",
        "ww = model.linear.weight.detach().numpy()[0]\n",
        "bb = model.linear.bias.detach().numpy()[0]"
      ]
    },
    {
      "cell_type": "markdown",
      "metadata": {
        "id": "cMpXuc2l0mnn"
      },
      "source": [
        "## 3.5 Evaluation\n",
        "We will first compute the accuray and plot the predicted decision boundary. Note that the model that fits the training data well, may still have much error on the val and test data."
      ]
    },
    {
      "cell_type": "code",
      "execution_count": null,
      "metadata": {
        "id": "F7BKsh860m1a",
        "colab": {
          "base_uri": "https://localhost:8080/"
        },
        "outputId": "148013a1-f6bd-42be-ff7e-cc6c11fb31f9"
      },
      "outputs": [
        {
          "output_type": "stream",
          "name": "stdout",
          "text": [
            "Train acc: tensor(0.9000)\n",
            "Val acc: tensor(0.5500)\n",
            "Test acc: tensor(0.8500)\n"
          ]
        }
      ],
      "source": [
        "def compute_accuracy(model, x=X, y=Y):\n",
        "    \"\"\"function that compares predicted y to true y and returns accuracy\"\"\"\n",
        "    y_pred = model(x)>0.5\n",
        "    accuracy = (y_pred == y).sum()/len(y)\n",
        "    return accuracy\n",
        "\n",
        "print('Train acc:', compute_accuracy(model, X_train_pt, Y_train_pt))\n",
        "print('Val acc:', compute_accuracy(model, X_val_pt, Y_test_pt))\n",
        "print('Test acc:', compute_accuracy(model, X_test_pt, Y_test_pt))"
      ]
    },
    {
      "cell_type": "code",
      "execution_count": null,
      "metadata": {
        "id": "dPLsGQfTwDq-",
        "colab": {
          "base_uri": "https://localhost:8080/",
          "height": 718
        },
        "outputId": "ba651ee3-d71c-49d1-981f-fe7a02a4389b"
      },
      "outputs": [
        {
          "output_type": "display_data",
          "data": {
            "text/plain": [
              "<Figure size 1200x800 with 3 Axes>"
            ],
            "image/png": "[encoded data removed]"
          },
          "metadata": {}
        }
      ],
      "source": [
        "fig = plt.figure(figsize=(12, 8))\n",
        "plot_logistic_regression(fig, ww, bb, X_train, Y_train[:,0], 131, 'train')\n",
        "plot_logistic_regression(fig, ww, bb, X_val, Y_val[:,0], 132, 'val')\n",
        "plot_logistic_regression(fig, ww, bb, X_test, Y_test[:,0], 133, 'test')\n",
        "plt.show()\n",
        "\n"
      ]
    },
    {
      "cell_type": "markdown",
      "metadata": {
        "tags": [],
        "id": "y15EPTBA8F-I"
      },
      "source": [
        "# (4 pts) Exercise\n",
        "Let's implement a better optimization method: \"gradient descend with momentum\" method described in [distill.pub paper](https://distill.pub/2017/momentum/).\n",
        "The high-level idea is that instead of trusting the current gradient 100%, we can linearly combine the previous gradients (i.e., carry on the momemtum) and the current gradient. With this, it can stabilize the search moves (e.g., not affected by noisy local gradient) and get out of stuck of the local optima where the current graident is 0.\n",
        "\n",
        "Here's the new Update formula:\n",
        "- $z^{k+1}=\\beta z^{k}+ \\dfrac{dg}{dx}(x^{k})$\n",
        "- $x^{k+1}=x^{k+1} -\\alpha z^{k+1}$\n",
        "\n",
        "Note that, if $\\beta=0$, the update rule is the same as the gradient descent method.\n",
        "\n",
        "Let's implement it and find the global mimina for this function."
      ]
    },
    {
      "cell_type": "code",
      "execution_count": null,
      "metadata": {
        "id": "6TBrOcg28F-I",
        "colab": {
          "base_uri": "https://localhost:8080/",
          "height": 467
        },
        "outputId": "9e7c03d6-1555-49ed-b470-ed23dfdf992b"
      },
      "outputs": [
        {
          "output_type": "stream",
          "name": "stdout",
          "text": [
            "initial result: x=5.50, g(x)=12.74\n",
            "final result: x=-2.40, g(x)=-0.16\n"
          ]
        },
        {
          "output_type": "display_data",
          "data": {
            "text/plain": [
              "<Figure size 640x480 with 1 Axes>"
            ],
            "image/png": "[encoded data removed]"
          },
          "metadata": {}
        }
      ],
      "source": [
        "## gradient descent with momemtum\n",
        "def optimizer_grad_descent_momentum(x0, grad, alpha = 0.1, beta = 0.99, num_step = 100, x_ran=None):\n",
        "    v0 = 0\n",
        "    for x in range(num_step):\n",
        "        # gradient descend with momentum update\n",
        "\n",
        "        ### Your code starts here\n",
        "        v1 = beta * v0 + grad(x0)\n",
        "        x0 = x0 - alpha * v1\n",
        "        v0 = v1\n",
        "\n",
        "        ### Your code ends here\n",
        "        if x_ran is not None:\n",
        "            # clip the value\n",
        "            x0 = np.clip(x0, x_ran[0], x_ran[1])\n",
        "    return x0\n",
        "\n",
        "# find the minimum value within x_ran, starting from x0\n",
        "x_ran = [-4, 6]\n",
        "x0 = 5.5\n",
        "x2 = optimizer_grad_descent_momentum(x0, Dg, x_ran = x_ran)\n",
        "\n",
        "# plot result\n",
        "print('initial result: x=%.2f, g(x)=%.2f' %(x0, g(x0)))\n",
        "print('final result: x=%.2f, g(x)=%.2f' %(x2, g(x2)))\n",
        "xx = np.linspace(*x_ran, 100)\n",
        "plt.plot(xx, g(xx))\n",
        "plt.plot(x0,g(x0), 'ro')\n",
        "plt.plot(x2,g(x2), 'kx', markersize=20)\n",
        "plt.show()"
      ]
    },
    {
      "cell_type": "code",
      "source": [],
      "metadata": {
        "id": "X_5W8J96GOH1"
      },
      "execution_count": null,
      "outputs": []
    }
  ],
  "metadata": {
    "accelerator": "GPU",
    "colab": {
      "provenance": [],
      "toc_visible": true,
      "include_colab_link": true
    },
    "kernelspec": {
      "display_name": "Python 3 (ipykernel)",
      "language": "python",
      "name": "python3"
    },
    "language_info": {
      "codemirror_mode": {
        "name": "ipython",
        "version": 3
      },
      "file_extension": ".py",
      "mimetype": "text/x-python",
      "name": "python",
      "nbconvert_exporter": "python",
      "pygments_lexer": "ipython3",
      "version": "3.9.7"
    }
  },
  "nbformat": 4,
  "nbformat_minor": 0
}